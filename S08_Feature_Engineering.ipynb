{
 "cells": [
  {
   "cell_type": "markdown",
   "id": "30ff6359",
   "metadata": {},
   "source": [
    "# S08 T01: Tasca Feature Engineering"
   ]
  },
  {
   "cell_type": "code",
   "execution_count": 1,
   "id": "2f852507",
   "metadata": {},
   "outputs": [],
   "source": [
    "import random\n",
    "import numpy as np\n",
    "import pandas as pd\n",
    "import matplotlib.pyplot as plt\n",
    "import seaborn as sns\n",
    "import statistics\n",
    "import scipy.stats\n",
    "from scipy.stats import norm\n",
    "from scipy import stats\n",
    "from scipy.stats import t\n",
    "from sklearn.preprocessing import StandardScaler\n",
    "from sklearn.linear_model import LinearRegression\n",
    "from numpy.polynomial.polynomial import polyfit\n",
    "from sklearn.decomposition import PCA\n",
    "import matplotlib.cm as cm"
   ]
  },
  {
   "cell_type": "markdown",
   "id": "b3870a85",
   "metadata": {},
   "source": [
    "## Exercici 1. Agafa un conjunt de dades de tema esportiu que t'agradi i normalitza els atributs categòrics en dummy. Estandaritza els atributs numèrics amb StandardScaler."
   ]
  },
  {
   "cell_type": "markdown",
   "id": "3ca358f9",
   "metadata": {},
   "source": [
    "De l'Sprint07, carreguem les dades netes, sense nuls, amb l'històric de jugadors de la selecció espanyola de futbol absolut masculina que han debutat (obtingudes a partir de la web bdfutbol.com). Recordem els noms de les columnes:\n",
    "\n",
    "Sobrenom; Nom; Data Naixement; Lloc de Naixament; Província; País; Partits Jugats; Partits Titular; Partits Complets; Partits Suplent; Partits Substituït; Partits Convocats (sense jugar); Partits Guanyats; Partits Empetats; Partits Perduts; Minuts; Goles; Gols Penalt; Goles pròpia porta; Gols Encaixats; Targetes grogues; Targetes vermelles; Edat inicial; Edat final; Alçada; Pes"
   ]
  },
  {
   "cell_type": "code",
   "execution_count": 2,
   "id": "9ebedd49",
   "metadata": {},
   "outputs": [],
   "source": [
    "jugadors = pd.read_csv('C:\\\\Users\\\\Silvia\\\\Desktop\\\\rubenIT\\\\DataSources\\\\jugadores00.csv')#importem i li assignem un nom de dataframe"
   ]
  },
  {
   "cell_type": "code",
   "execution_count": 3,
   "id": "3b284df2",
   "metadata": {},
   "outputs": [
    {
     "name": "stdout",
     "output_type": "stream",
     "text": [
      "               PJ          PT          PC          PS          PX          PG  \\\n",
      "count  654.000000  654.000000  654.000000  654.000000  654.000000  654.000000   \n",
      "mean    14.155963   11.085627    8.006116    3.070336    3.056575    8.391437   \n",
      "std     22.460518   19.330256   14.271486    5.229901    7.115855   15.330149   \n",
      "min      1.000000    0.000000    0.000000    0.000000    0.000000    0.000000   \n",
      "25%      2.000000    1.000000    1.000000    0.000000    0.000000    1.000000   \n",
      "50%      5.000000    4.000000    3.000000    1.000000    1.000000    3.000000   \n",
      "75%     16.000000   12.000000    9.000000    3.000000    3.000000    9.000000   \n",
      "max    180.000000  161.000000  125.000000   42.000000   59.000000  131.000000   \n",
      "\n",
      "               PE          PP           Min           G          GP  \\\n",
      "count  654.000000  654.000000    654.000000  654.000000  654.000000   \n",
      "mean     3.333333    2.431193   1005.507645    1.960245    0.142202   \n",
      "std      4.831199    3.607972   1669.924268    5.165109    0.873092   \n",
      "min      0.000000    0.000000      1.000000    0.000000    0.000000   \n",
      "25%      0.000000    0.000000     90.000000    0.000000    0.000000   \n",
      "50%      1.000000    1.000000    360.000000    0.000000    0.000000   \n",
      "75%      4.000000    3.000000   1129.250000    1.000000    0.000000   \n",
      "max     33.000000   23.000000  13709.000000   59.000000   11.000000   \n",
      "\n",
      "              GPP          GE          TA          TR          EI          EF  \\\n",
      "count  654.000000  654.000000  654.000000  654.000000  654.000000  654.000000   \n",
      "mean     0.019878    0.905199    0.917431    0.032110   23.949541   26.831804   \n",
      "std      0.139687    6.868723    2.419149    0.184904    2.782392    3.488660   \n",
      "min      0.000000    0.000000    0.000000    0.000000   17.000000   17.000000   \n",
      "25%      0.000000    0.000000    0.000000    0.000000   22.000000   25.000000   \n",
      "50%      0.000000    0.000000    0.000000    0.000000   24.000000   27.000000   \n",
      "75%      0.000000    0.000000    1.000000    0.000000   26.000000   29.000000   \n",
      "max      1.000000  100.000000   24.000000    2.000000   34.000000   36.000000   \n",
      "\n",
      "           Altura        Peso  \n",
      "count  654.000000  654.000000  \n",
      "mean   177.594801   73.915902  \n",
      "std      6.021862    5.713472  \n",
      "min    160.000000   60.000000  \n",
      "25%    173.000000   70.000000  \n",
      "50%    178.000000   74.000000  \n",
      "75%    181.750000   77.000000  \n",
      "max    197.000000   95.000000  \n",
      "            Apodo                       Nombre       Fecha             Ciudad  \\\n",
      "0    Marcos Vales         Marcos Vales Illanes  05/04/1975           A Coruña   \n",
      "1           Acuña              Juan Acuña Naya  13/02/1923           A Coruña   \n",
      "2          Martín  José María Martín Rodríguez  25/04/1924           A Coruña   \n",
      "3         Casilla     Francisco Casilla Cortés  02/10/1986            Alcover   \n",
      "4    Juan Sánchez    Juan Ginés Sánchez Romero  15/05/1972             Aldaia   \n",
      "5       Cucurella        Marc Cucurella Saseta  22/07/1998             Alella   \n",
      "6          Piquer          Vicente Piquer Mora  24/02/1935  Algar de Palancia   \n",
      "7             Ito        Antonio Álvarez Pérez  21/01/1975       Almendralejo   \n",
      "8       Planas II           Javier Planas Abad  03/07/1949          Almudévar   \n",
      "9  Josep Martínez         Josep Martínez Riera  27/05/1998             Alzira   \n",
      "\n",
      "   Provincia    País  PJ  PT  PC  PS  ...  G  GP  GPP  GE  TA  TR  EI  EF  \\\n",
      "0   A Coruña  España   1   0   0   1  ...  0   0    0   0   0   0  23  23   \n",
      "1   A Coruña  España   1   0   0   1  ...  0   0    0   1   0   0  18  18   \n",
      "2   A Coruña  España   1   1   1   0  ...  0   0    0   0   0   0  28  28   \n",
      "3  Tarragona  España   1   0   0   1  ...  0   0    0   1   0   0  28  28   \n",
      "4   Valencia  España   1   0   0   1  ...  0   0    0   0   0   0  26  26   \n",
      "5  Barcelona  España   1   1   0   0  ...  0   0    0   0   0   0  22  22   \n",
      "6   Valencia  España   1   1   1   0  ...  0   0    0   0   0   0  26  26   \n",
      "7    Badajoz  España   1   0   0   1  ...  0   0    0   0   0   0  23  23   \n",
      "8     Huesca  España   1   1   1   0  ...  0   0    0   0   1   0  25  25   \n",
      "9   Valencia  España   1   0   0   1  ...  0   0    0   0   0   0  23  23   \n",
      "\n",
      "   Altura  Peso  \n",
      "0   181.0  77.0  \n",
      "1   179.0  88.0  \n",
      "2   176.0  74.0  \n",
      "3   192.0  83.0  \n",
      "4   173.0  72.0  \n",
      "5   172.0  68.0  \n",
      "6   173.0  71.0  \n",
      "7   175.0  70.0  \n",
      "8   174.0  74.0  \n",
      "9   191.0  78.0  \n",
      "\n",
      "[10 rows x 25 columns]\n",
      "               Apodo                     Nombre       Fecha           Ciudad  \\\n",
      "644         Fàbregas    Francesc Fàbregas Soler  04/05/1987    Arenys de Mar   \n",
      "645  Fernando Torres  Fernando José Torres Sanz  20/03/1984      Fuenlabrada   \n",
      "646      Xabi Alonso        Xabier Alonso Olano  25/11/1981           Tolosa   \n",
      "647            Silva  David Josué Jiménez Silva  08/01/1986      Arguineguín   \n",
      "648      Zubizarreta  Andoni Zubizarreta Urreta  23/10/1961  Vitoria-Gasteiz   \n",
      "649          Iniesta       Andrés Iniesta Luján  11/05/1984    Fuentealbilla   \n",
      "650         Busquets     Sergio Busquets Burgos  16/07/1988         Sabadell   \n",
      "651             Xavi     Xavier Hernández Creus  25/01/1980         Terrassa   \n",
      "652         Casillas    Iker Casillas Fernández  20/05/1981         Móstoles   \n",
      "653     Sergio Ramos        Sergio Ramos García  30/03/1986            Camas   \n",
      "\n",
      "       Provincia    País   PJ   PT   PC  PS  ...   G  GP  GPP   GE  TA  TR  \\\n",
      "644    Barcelona  España  110   68   22  42  ...  15   0    0    0  15   0   \n",
      "645       Madrid  España  110   75   21  35  ...  38   5    0    0   4   0   \n",
      "646     Gipuzkoa  España  114   86   48  28  ...  16   6    0    0  10   1   \n",
      "647   Las Palmas  España  125   96   37  29  ...  35   2    0    0  10   0   \n",
      "648  Araba/Álava  España  126  125  106   1  ...   0   0    1  100   2   1   \n",
      "649     Albacete  España  131  105   47  26  ...  13   1    0    0   4   0   \n",
      "650    Barcelona  España  133  119   89  14  ...   2   0    0    0  23   0   \n",
      "651    Barcelona  España  133  108   64  25  ...  13   0    0    0   9   0   \n",
      "652       Madrid  España  167  154  125  13  ...   0   0    0   93   2   0   \n",
      "653      Sevilla  España  180  161  118  19  ...  23   8    0    0  24   0   \n",
      "\n",
      "     EI  EF  Altura  Peso  \n",
      "644  18  29   180.0  77.0  \n",
      "645  19  30   186.0  78.0  \n",
      "646  21  32   183.0  75.0  \n",
      "647  20  32   170.0  67.0  \n",
      "648  23  36   187.0  86.0  \n",
      "649  22  34   171.0  68.0  \n",
      "650  20  32   189.0  76.0  \n",
      "651  20  34   170.0  68.0  \n",
      "652  19  35   182.0  80.0  \n",
      "653  18  34   184.0  83.0  \n",
      "\n",
      "[10 rows x 25 columns]\n"
     ]
    }
   ],
   "source": [
    "#Imprimim les dades filtrades per comprovar la importació\n",
    "print(jugadors.describe())\n",
    "print(jugadors.head(10))\n",
    "print(jugadors.tail(10))"
   ]
  },
  {
   "cell_type": "markdown",
   "id": "a9dca47c",
   "metadata": {},
   "source": [
    "### Normalització atributs categòrics en dummy"
   ]
  },
  {
   "cell_type": "markdown",
   "id": "12ba1fc0",
   "metadata": {},
   "source": [
    "Els atributs categòrics que podem observar serien \"Ciudad\", \"Provincia\" i \"País\". Descartem \"Ciudad\" perquè sortirien moltes columnes; acotem l'estudi a \"Provincia\" i a \"País\", que com comprovarem sortiran 52 columnes i 15 respectivament. Les afegim a un nou dataframe que anomenarem jugadors00."
   ]
  },
  {
   "cell_type": "code",
   "execution_count": 4,
   "id": "7df29968",
   "metadata": {},
   "outputs": [
    {
     "name": "stdout",
     "output_type": "stream",
     "text": [
      "<class 'pandas.core.frame.DataFrame'>\n",
      "RangeIndex: 654 entries, 0 to 653\n",
      "Data columns (total 52 columns):\n",
      " #   Column                  Non-Null Count  Dtype\n",
      "---  ------                  --------------  -----\n",
      " 0   A Coruña                654 non-null    uint8\n",
      " 1   Albacete                654 non-null    uint8\n",
      " 2   Alicante                654 non-null    uint8\n",
      " 3   Almería                 654 non-null    uint8\n",
      " 4   Araba/Álava             654 non-null    uint8\n",
      " 5   Asturias                654 non-null    uint8\n",
      " 6   Badajoz                 654 non-null    uint8\n",
      " 7   Barcelona               654 non-null    uint8\n",
      " 8   Bizkaia                 654 non-null    uint8\n",
      " 9   Burgos                  654 non-null    uint8\n",
      " 10  Cantabria               654 non-null    uint8\n",
      " 11  Castellón               654 non-null    uint8\n",
      " 12  Ceuta                   654 non-null    uint8\n",
      " 13  Ciudad Real             654 non-null    uint8\n",
      " 14  Cáceres                 654 non-null    uint8\n",
      " 15  Cádiz                   654 non-null    uint8\n",
      " 16  Córdoba                 654 non-null    uint8\n",
      " 17  Extranjero              654 non-null    uint8\n",
      " 18  Fernando Poo            654 non-null    uint8\n",
      " 19  Gipuzkoa                654 non-null    uint8\n",
      " 20  Girona                  654 non-null    uint8\n",
      " 21  Granada                 654 non-null    uint8\n",
      " 22  Huelva                  654 non-null    uint8\n",
      " 23  Huesca                  654 non-null    uint8\n",
      " 24  Islas Baleares          654 non-null    uint8\n",
      " 25  Jaén                    654 non-null    uint8\n",
      " 26  La Rioja                654 non-null    uint8\n",
      " 27  Las Palmas              654 non-null    uint8\n",
      " 28  León                    654 non-null    uint8\n",
      " 29  Lleida                  654 non-null    uint8\n",
      " 30  Lugo                    654 non-null    uint8\n",
      " 31  Madrid                  654 non-null    uint8\n",
      " 32  Melilla                 654 non-null    uint8\n",
      " 33  Murcia                  654 non-null    uint8\n",
      " 34  Málaga                  654 non-null    uint8\n",
      " 35  Navarra                 654 non-null    uint8\n",
      " 36  Ourense                 654 non-null    uint8\n",
      " 37  Palencia                654 non-null    uint8\n",
      " 38  Pontevedra              654 non-null    uint8\n",
      " 39  Salamanca               654 non-null    uint8\n",
      " 40  Santa Cruz de Tenerife  654 non-null    uint8\n",
      " 41  Segovia                 654 non-null    uint8\n",
      " 42  Sevilla                 654 non-null    uint8\n",
      " 43  Soria                   654 non-null    uint8\n",
      " 44  Tarragona               654 non-null    uint8\n",
      " 45  Teruel                  654 non-null    uint8\n",
      " 46  Toledo                  654 non-null    uint8\n",
      " 47  Valencia                654 non-null    uint8\n",
      " 48  Valladolid              654 non-null    uint8\n",
      " 49  Zamora                  654 non-null    uint8\n",
      " 50  Zaragoza                654 non-null    uint8\n",
      " 51  Ávila                   654 non-null    uint8\n",
      "dtypes: uint8(52)\n",
      "memory usage: 33.3 KB\n",
      "None\n",
      "   A Coruña  Albacete  Alicante  Almería  Araba/Álava  Asturias  Badajoz  \\\n",
      "0         1         0         0        0            0         0        0   \n",
      "1         1         0         0        0            0         0        0   \n",
      "2         1         0         0        0            0         0        0   \n",
      "3         0         0         0        0            0         0        0   \n",
      "4         0         0         0        0            0         0        0   \n",
      "\n",
      "   Barcelona  Bizkaia  Burgos  ...  Sevilla  Soria  Tarragona  Teruel  Toledo  \\\n",
      "0          0        0       0  ...        0      0          0       0       0   \n",
      "1          0        0       0  ...        0      0          0       0       0   \n",
      "2          0        0       0  ...        0      0          0       0       0   \n",
      "3          0        0       0  ...        0      0          1       0       0   \n",
      "4          0        0       0  ...        0      0          0       0       0   \n",
      "\n",
      "   Valencia  Valladolid  Zamora  Zaragoza  Ávila  \n",
      "0         0           0       0         0      0  \n",
      "1         0           0       0         0      0  \n",
      "2         0           0       0         0      0  \n",
      "3         0           0       0         0      0  \n",
      "4         1           0       0         0      0  \n",
      "\n",
      "[5 rows x 52 columns]\n"
     ]
    }
   ],
   "source": [
    "dummy_prov=pd.get_dummies(jugadors[\"Provincia\"])\n",
    "print(dummy_prov.info())\n",
    "print(dummy_prov.head())"
   ]
  },
  {
   "cell_type": "code",
   "execution_count": 5,
   "id": "c2b4c93a",
   "metadata": {},
   "outputs": [
    {
     "name": "stdout",
     "output_type": "stream",
     "text": [
      "   Alemania  Argentina  Brasil  Dinamarca  España  Francia  Guinea Ecuatorial  \\\n",
      "0         0          0       0          0       1        0                  0   \n",
      "1         0          0       0          0       1        0                  0   \n",
      "2         0          0       0          0       1        0                  0   \n",
      "3         0          0       0          0       1        0                  0   \n",
      "4         0          0       0          0       1        0                  0   \n",
      "\n",
      "   Guinea-Bisáu  Hungría  Italia  Marruecos  Mauritania  Paraguay  Suiza  \\\n",
      "0             0        0       0          0           0         0      0   \n",
      "1             0        0       0          0           0         0      0   \n",
      "2             0        0       0          0           0         0      0   \n",
      "3             0        0       0          0           0         0      0   \n",
      "4             0        0       0          0           0         0      0   \n",
      "\n",
      "   Uruguay  \n",
      "0        0  \n",
      "1        0  \n",
      "2        0  \n",
      "3        0  \n",
      "4        0  \n",
      "<class 'pandas.core.frame.DataFrame'>\n",
      "RangeIndex: 654 entries, 0 to 653\n",
      "Data columns (total 15 columns):\n",
      " #   Column             Non-Null Count  Dtype\n",
      "---  ------             --------------  -----\n",
      " 0   Alemania           654 non-null    uint8\n",
      " 1   Argentina          654 non-null    uint8\n",
      " 2   Brasil             654 non-null    uint8\n",
      " 3   Dinamarca          654 non-null    uint8\n",
      " 4   España             654 non-null    uint8\n",
      " 5   Francia            654 non-null    uint8\n",
      " 6   Guinea Ecuatorial  654 non-null    uint8\n",
      " 7   Guinea-Bisáu       654 non-null    uint8\n",
      " 8   Hungría            654 non-null    uint8\n",
      " 9   Italia             654 non-null    uint8\n",
      " 10  Marruecos          654 non-null    uint8\n",
      " 11  Mauritania         654 non-null    uint8\n",
      " 12  Paraguay           654 non-null    uint8\n",
      " 13  Suiza              654 non-null    uint8\n",
      " 14  Uruguay            654 non-null    uint8\n",
      "dtypes: uint8(15)\n",
      "memory usage: 9.7 KB\n",
      "None\n"
     ]
    }
   ],
   "source": [
    "dummy_pais=pd.get_dummies(jugadors[\"País\"])\n",
    "print(dummy_pais.head())\n",
    "print(dummy_pais.info())"
   ]
  },
  {
   "cell_type": "markdown",
   "id": "5bdbbdf7",
   "metadata": {},
   "source": [
    "Unim els dos resultats dummies amb el dataframe original, i obtenim un nou dataframe de 92 columnes."
   ]
  },
  {
   "cell_type": "code",
   "execution_count": 6,
   "id": "6f55c0de",
   "metadata": {},
   "outputs": [],
   "source": [
    "jugadors00=jugadors.merge(dummy_prov,left_index=True,right_index=True)\n",
    "jugadors00=jugadors00.merge(dummy_pais,left_index=True,right_index=True)"
   ]
  },
  {
   "cell_type": "code",
   "execution_count": 7,
   "id": "50fa0a5a",
   "metadata": {},
   "outputs": [
    {
     "name": "stdout",
     "output_type": "stream",
     "text": [
      "          Apodo                       Nombre       Fecha    Ciudad  Provincia  \\\n",
      "0  Marcos Vales         Marcos Vales Illanes  05/04/1975  A Coruña   A Coruña   \n",
      "1         Acuña              Juan Acuña Naya  13/02/1923  A Coruña   A Coruña   \n",
      "2        Martín  José María Martín Rodríguez  25/04/1924  A Coruña   A Coruña   \n",
      "3       Casilla     Francisco Casilla Cortés  02/10/1986   Alcover  Tarragona   \n",
      "4  Juan Sánchez    Juan Ginés Sánchez Romero  15/05/1972    Aldaia   Valencia   \n",
      "\n",
      "     País  PJ  PT  PC  PS  ...  Francia  Guinea Ecuatorial  Guinea-Bisáu  \\\n",
      "0  España   1   0   0   1  ...        0                  0             0   \n",
      "1  España   1   0   0   1  ...        0                  0             0   \n",
      "2  España   1   1   1   0  ...        0                  0             0   \n",
      "3  España   1   0   0   1  ...        0                  0             0   \n",
      "4  España   1   0   0   1  ...        0                  0             0   \n",
      "\n",
      "   Hungría  Italia  Marruecos  Mauritania  Paraguay  Suiza  Uruguay  \n",
      "0        0       0          0           0         0      0        0  \n",
      "1        0       0          0           0         0      0        0  \n",
      "2        0       0          0           0         0      0        0  \n",
      "3        0       0          0           0         0      0        0  \n",
      "4        0       0          0           0         0      0        0  \n",
      "\n",
      "[5 rows x 92 columns]\n"
     ]
    }
   ],
   "source": [
    "print(jugadors00.head())"
   ]
  },
  {
   "cell_type": "markdown",
   "id": "64ea1919",
   "metadata": {},
   "source": [
    "### Estandarització dels atributs numèrics amb StandardScaler"
   ]
  },
  {
   "cell_type": "markdown",
   "id": "23a4437f",
   "metadata": {},
   "source": [
    "Apliquem la estandarització dels atributs \"Altura\" i \"Peso\".\n",
    "\n",
    "*The most common method of scaling is standardization, in this method we center the data, then we divide by the standard devation to enforce that the standard deviation of the variable is one*\n",
    "\n",
    "Trobem la metodologia a:\n",
    "https://medium.com/@stallonejacob/data-science-scaling-of-data-in-python-ec7ad220b339"
   ]
  },
  {
   "cell_type": "markdown",
   "id": "d3f3fc2a",
   "metadata": {},
   "source": [
    "**Si fem el càlcul amb els dos atributs junts:**"
   ]
  },
  {
   "cell_type": "code",
   "execution_count": 8,
   "id": "020dc284",
   "metadata": {},
   "outputs": [
    {
     "name": "stdout",
     "output_type": "stream",
     "text": [
      "[[ 0.23352816  2.46695505]\n",
      " [-0.26503794  0.01473049]\n",
      " [ 2.39398125  1.59116056]\n",
      " [-0.76360404 -0.33558731]\n",
      " [-0.92979274 -1.03622289]\n",
      " [-0.76360404 -0.5107462 ]\n",
      " [-0.43122664 -0.6859051 ]\n",
      " [-0.59741534  0.01473049]\n",
      " [ 2.22779255  0.71536608]\n",
      " [ 1.39684905  1.06568387]\n",
      " [-0.92979274 -0.33558731]\n",
      " [ 1.39684905  1.06568387]\n",
      " [ 0.23352816  0.01473049]\n",
      " [-0.09884924 -0.6859051 ]\n",
      " [-0.76360404 -0.5107462 ]\n",
      " [ 1.23066035  1.76631946]\n",
      " [-0.09884924  0.18988939]\n",
      " [-0.59741534 -0.33558731]\n",
      " [ 0.06733946  0.36504828]]\n"
     ]
    }
   ],
   "source": [
    "ss=StandardScaler()\n",
    "Xstd=ss.fit_transform(jugadors00[[\"Altura\",\"Peso\"]].values)\n",
    "print(Xstd[1:20])"
   ]
  },
  {
   "cell_type": "markdown",
   "id": "0438fd82",
   "metadata": {},
   "source": [
    "Extraiem les columnes del Array generat, i comparem els valors de les noves mitjanes amb les mitjanes abans de la transformació."
   ]
  },
  {
   "cell_type": "code",
   "execution_count": 9,
   "id": "b9118b7c",
   "metadata": {},
   "outputs": [
    {
     "name": "stdout",
     "output_type": "stream",
     "text": [
      "Mitjana Altura transformada = -2.178345848928136e-15\n",
      "Mitjana Peso transformada = -3.1507246692726155e-16\n",
      "Mitjana Altura abans transformació = 177.5948012232416\n",
      "Mitjana Peso abans transformació = 73.91590214067278\n"
     ]
    }
   ],
   "source": [
    "#Extracció per columnes del Array generat\n",
    "Altura_transformed = Xstd[:, 0]\n",
    "Peso_transformed = Xstd[:, 1]\n",
    "print(\"Mitjana Altura transformada = \" + str(np.mean(Altura_transformed)))\n",
    "print(\"Mitjana Peso transformada = \" + str(np.mean(Peso_transformed)))\n",
    "print(\"Mitjana Altura abans transformació = \" + str(jugadors00.Altura.mean()))\n",
    "print(\"Mitjana Peso abans transformació = \" + str(jugadors00.Peso.mean()))"
   ]
  },
  {
   "cell_type": "markdown",
   "id": "eb9aa747",
   "metadata": {},
   "source": [
    "Comprovem que la nova desviació estàndar és 1, i la comprovem amb les originals."
   ]
  },
  {
   "cell_type": "code",
   "execution_count": 10,
   "id": "348bd1c9",
   "metadata": {},
   "outputs": [
    {
     "name": "stdout",
     "output_type": "stream",
     "text": [
      "Variació Altura transformada = 1.0000000000000004\n",
      "Variació Peso transformada = 1.0\n",
      "Variació Altura abans transformació = 6.02186194821565\n",
      "Variació Peso abans transformació = 5.713471710423933\n"
     ]
    }
   ],
   "source": [
    "print(\"Variació Altura transformada = \" + str(np.var(Altura_transformed)))\n",
    "print(\"Variació Peso transformada = \" + str(np.var(Peso_transformed)))\n",
    "print(\"Variació Altura abans transformació = \" + str(jugadors00.Altura.std()))\n",
    "print(\"Variació Peso abans transformació = \" + str(jugadors00.Peso.std()))"
   ]
  },
  {
   "cell_type": "code",
   "execution_count": 11,
   "id": "88041393",
   "metadata": {},
   "outputs": [
    {
     "name": "stdout",
     "output_type": "stream",
     "text": [
      "Mitjana: -1.2467091579276987e-15\n",
      "Desviació estàndard: 1.0\n"
     ]
    }
   ],
   "source": [
    "print(\"Mitjana: \" + str(Xstd.mean()))\n",
    "print(\"Desviació estàndard: \" + str(Xstd.std()))"
   ]
  },
  {
   "cell_type": "markdown",
   "id": "460b5f7b",
   "metadata": {},
   "source": [
    "**Podem interpretar aquests valors amb una regressió lineal per als partits jugats i tots dos atributs junts.**"
   ]
  },
  {
   "cell_type": "code",
   "execution_count": 12,
   "id": "d935ad75",
   "metadata": {},
   "outputs": [
    {
     "name": "stdout",
     "output_type": "stream",
     "text": [
      "Intercept (independent term): 14.1559633027523\n",
      "Coefficient: [2.25662005 0.14921409]\n"
     ]
    }
   ],
   "source": [
    "#Per partits jugats \"PJ\"\n",
    "lr=LinearRegression()\n",
    "lr.fit(Xstd,jugadors00.PJ.values)\n",
    "print(\"Intercept (independent term): \" + str(lr.intercept_))\n",
    "print(\"Coefficient: \" + str(lr.coef_))"
   ]
  },
  {
   "cell_type": "markdown",
   "id": "9f8795d1",
   "metadata": {},
   "source": [
    "Interpretació del Coeficient:\n",
    "- *For 1 standard deviation increase in height estimates 2.26 matches played*\n",
    "- *For 1 standard deviation increase in weight estimates 0.15 matches played*"
   ]
  },
  {
   "cell_type": "markdown",
   "id": "98751865",
   "metadata": {},
   "source": [
    "Posem els valors X i Y transformats (\"Altura\" i \"Peso\") en un gràfic, i els comparem amb els orginals."
   ]
  },
  {
   "cell_type": "code",
   "execution_count": 13,
   "id": "81f68c38",
   "metadata": {},
   "outputs": [
    {
     "data": {
      "image/png": "[encoded data removed]",
      "text/plain": [
       "<Figure size 1080x576 with 3 Axes>"
      ]
     },
     "metadata": {
      "needs_background": "light"
     },
     "output_type": "display_data"
    }
   ],
   "source": [
    "fig, ax1 = plt.subplots(figsize = (15, 8))\n",
    "ax1 = fig.add_subplot(1, 2, 1)\n",
    "ax1.scatter(Altura_transformed,Peso_transformed)\n",
    "#Afegim regressió lineal y = b + mx\n",
    "b_t,m_t=polyfit(Altura_transformed,Peso_transformed,1)\n",
    "ax1.plot(Altura_transformed,b_t+m_t*Altura_transformed,\"y-\")\n",
    "plt.title(\"Scatter de les transformacions\",fontsize=12)\n",
    "plt.xlabel(\"Alçada [cm]\")\n",
    "plt.ylabel(\"Pes [kg]\")\n",
    "\n",
    "\n",
    "ax2 = fig.add_subplot(1, 2, 2)\n",
    "ax2.scatter(jugadors00.Altura,jugadors00.Peso, color=\"r\")\n",
    "#Afegim regressió lineal y = b + mx. Convertim les columnes del DF en Arrays.\n",
    "x00=jugadors00.Altura.to_numpy()\n",
    "y00=jugadors00.Peso.to_numpy()\n",
    "b,m=polyfit(x00,y00,1)\n",
    "ax2.plot(x00,b+m*x00,\"c-\")\n",
    "plt.title(\"Scatter sense les transformacions\",fontsize=12)\n",
    "plt.xlabel(\"Alçada [cm]\")\n",
    "plt.ylabel(\"Pes [kg]\")\n",
    "\n",
    "\n",
    "plt.show()"
   ]
  },
  {
   "cell_type": "markdown",
   "id": "3a66e2ba",
   "metadata": {},
   "source": [
    "Veiem que la distribució dels punts és la mateixa. El que hem fet quan estandaritzem i normalitzem és reescalar les dades.\n",
    "\n",
    "També veiem que hi ha una clara dependència lineal entre pes i alçada dels jugadors, la qual quantificarem aplicant l'estimació PCA de la biblioteca sklearn.\n",
    "\n",
    "Observem els components i la variança explicada."
   ]
  },
  {
   "cell_type": "markdown",
   "id": "1e5610ea",
   "metadata": {},
   "source": [
    "## Exercici 2. Continua amb el conjunt de dades de tema esportiu que t'agradi i aplica l'anàlisi de components principals. (PCA Principal Component Analysis)"
   ]
  },
  {
   "cell_type": "markdown",
   "id": "d1a11ee2",
   "metadata": {},
   "source": [
    "### Podríem analitzar només els dos atributs \"Altura\" i \"Peso\"."
   ]
  },
  {
   "cell_type": "markdown",
   "id": "391a11fd",
   "metadata": {},
   "source": [
    "De la següent web, extraiem una funció que ens permet vectoritzar els punts. S'extreu la conclusió que a més alçada, més pes, de forma generalitzada.\n",
    "\n",
    "https://jakevdp.github.io/PythonDataScienceHandbook/05.09-principal-component-analysis.html\n",
    "\n",
    "To see what these numbers mean, let's visualize them as vectors over the input data, using the \"components\" to define the direction of the vector, and the \"explained variance\" to define the squared-length of the vector.\n",
    "\n",
    "These vectors represent the principal axes of the data, and the length of the vector is an indication of how \"important\" that axis is in describing the distribution of the data—more precisely, it is a measure of the variance of the data when projected onto that axis. The projection of each data point onto the principal axes are the \"principal components\" of the data."
   ]
  },
  {
   "cell_type": "code",
   "execution_count": 14,
   "id": "43ac8d4d",
   "metadata": {},
   "outputs": [
    {
     "data": {
      "text/plain": [
       "PCA(n_components=2)"
      ]
     },
     "execution_count": 14,
     "metadata": {},
     "output_type": "execute_result"
    }
   ],
   "source": [
    "pca = PCA(n_components=2)\n",
    "pca.fit(Xstd)"
   ]
  },
  {
   "cell_type": "code",
   "execution_count": 15,
   "id": "84b3fc32",
   "metadata": {},
   "outputs": [
    {
     "name": "stdout",
     "output_type": "stream",
     "text": [
      "[[ 0.70710678  0.70710678]\n",
      " [ 0.70710678 -0.70710678]]\n"
     ]
    }
   ],
   "source": [
    "print(pca.components_)"
   ]
  },
  {
   "cell_type": "code",
   "execution_count": 16,
   "id": "5a50fb62",
   "metadata": {},
   "outputs": [
    {
     "name": "stdout",
     "output_type": "stream",
     "text": [
      "[1.77909258 0.22397021]\n"
     ]
    }
   ],
   "source": [
    "print(pca.explained_variance_)"
   ]
  },
  {
   "cell_type": "code",
   "execution_count": 17,
   "id": "abb8d9c6",
   "metadata": {},
   "outputs": [
    {
     "name": "stdout",
     "output_type": "stream",
     "text": [
      "[0.88818612 0.11181388]\n"
     ]
    }
   ],
   "source": [
    "print(pca.explained_variance_ratio_)"
   ]
  },
  {
   "cell_type": "code",
   "execution_count": 18,
   "id": "e856ac66",
   "metadata": {},
   "outputs": [
    {
     "name": "stdout",
     "output_type": "stream",
     "text": [
      "[34.08441655 12.09349199]\n"
     ]
    }
   ],
   "source": [
    "print(pca.singular_values_)"
   ]
  },
  {
   "cell_type": "markdown",
   "id": "261a496d",
   "metadata": {},
   "source": [
    "De la següent web, extraiem una funció que ens permet vectoritzar els punts. S'extreu la conclusió que a més alçada, més pes, de forma generalitzada.\n",
    "\n",
    "https://jakevdp.github.io/PythonDataScienceHandbook/05.09-principal-component-analysis.html\n",
    "\n",
    "*To see what these numbers mean, let's visualize them as vectors over the input data, using the \"components\" to define the direction of the vector, and the \"explained variance\" to define the squared-length of the vector.*\n",
    "\n",
    "*These vectors represent the principal axes of the data, and the length of the vector is an indication of how \"important\" that axis is in describing the distribution of the data—more precisely, it is a measure of the variance of the data when projected onto that axis. The projection of each data point onto the principal axes are the \"principal components\" of the data.*"
   ]
  },
  {
   "cell_type": "code",
   "execution_count": 19,
   "id": "153a9a0c",
   "metadata": {},
   "outputs": [
    {
     "data": {
      "text/plain": [
       "Text(0, 0.5, 'Pes')"
      ]
     },
     "execution_count": 19,
     "metadata": {},
     "output_type": "execute_result"
    },
    {
     "data": {
      "image/png": "[encoded data removed]",
      "text/plain": [
       "<Figure size 1080x576 with 1 Axes>"
      ]
     },
     "metadata": {
      "needs_background": "light"
     },
     "output_type": "display_data"
    }
   ],
   "source": [
    "def draw_vector(v0, v1, ax=None):\n",
    "    ax = ax or plt.gca()\n",
    "    arrowprops=dict(arrowstyle='->',\n",
    "                    linewidth=2,\n",
    "                    shrinkA=0, shrinkB=0)\n",
    "    ax.annotate('', v1, v0, arrowprops=arrowprops)\n",
    "\n",
    "# plot data\n",
    "plt.figure(figsize=(15,8))\n",
    "plt.scatter(Xstd[:, 0], Xstd[:, 1], alpha=0.2)\n",
    "for length, vector in zip(pca.explained_variance_, pca.components_):\n",
    "    v = vector * 3 * np.sqrt(length)\n",
    "    draw_vector(pca.mean_, pca.mean_ + v)\n",
    "plt.axis(\"equal\")\n",
    "plt.title(\"Scatter de les transformacions amb vector principals de les dades\",fontsize=12)\n",
    "plt.xlabel(\"Alçada\")\n",
    "plt.ylabel(\"Pes\")"
   ]
  },
  {
   "cell_type": "markdown",
   "id": "edb2be89",
   "metadata": {},
   "source": [
    "### Tanmateix, analitzem més atributs del Dataframe jugadors"
   ]
  },
  {
   "cell_type": "markdown",
   "id": "a1ea1dbc",
   "metadata": {},
   "source": [
    "Primer hem d'escollir només les columnes numèriques. Com que hi ha moltes columnes perquè hem afegit els dummies, tornarem al DF original \"jugadors\", i escollirem algunes columnes.\n",
    "\n",
    "Informació de guia per a l'elaboració d'aquesta tasca:\n",
    "https://towardsdatascience.com/pca-using-python-scikit-learn-e653f8989e60"
   ]
  },
  {
   "cell_type": "code",
   "execution_count": 20,
   "id": "202edefe",
   "metadata": {},
   "outputs": [
    {
     "name": "stdout",
     "output_type": "stream",
     "text": [
      "<class 'pandas.core.frame.DataFrame'>\n",
      "RangeIndex: 654 entries, 0 to 653\n",
      "Data columns (total 25 columns):\n",
      " #   Column     Non-Null Count  Dtype  \n",
      "---  ------     --------------  -----  \n",
      " 0   Apodo      654 non-null    object \n",
      " 1   Nombre     654 non-null    object \n",
      " 2   Fecha      654 non-null    object \n",
      " 3   Ciudad     654 non-null    object \n",
      " 4   Provincia  654 non-null    object \n",
      " 5   País       654 non-null    object \n",
      " 6   PJ         654 non-null    int64  \n",
      " 7   PT         654 non-null    int64  \n",
      " 8   PC         654 non-null    int64  \n",
      " 9   PS         654 non-null    int64  \n",
      " 10  PX         654 non-null    int64  \n",
      " 11  PG         654 non-null    int64  \n",
      " 12  PE         654 non-null    int64  \n",
      " 13  PP         654 non-null    int64  \n",
      " 14  Min        654 non-null    int64  \n",
      " 15  G          654 non-null    int64  \n",
      " 16  GP         654 non-null    int64  \n",
      " 17  GPP        654 non-null    int64  \n",
      " 18  GE         654 non-null    int64  \n",
      " 19  TA         654 non-null    int64  \n",
      " 20  TR         654 non-null    int64  \n",
      " 21  EI         654 non-null    int64  \n",
      " 22  EF         654 non-null    int64  \n",
      " 23  Altura     654 non-null    float64\n",
      " 24  Peso       654 non-null    float64\n",
      "dtypes: float64(2), int64(17), object(6)\n",
      "memory usage: 127.9+ KB\n"
     ]
    }
   ],
   "source": [
    "jugadors.info()"
   ]
  },
  {
   "cell_type": "markdown",
   "id": "724b7568",
   "metadata": {},
   "source": [
    "**Estandaritzem diverses columnes**"
   ]
  },
  {
   "cell_type": "code",
   "execution_count": 21,
   "id": "593e8b6b",
   "metadata": {},
   "outputs": [],
   "source": [
    "features = [6,7,11,12,13,14,23,24]\n",
    "# Separating out the features\n",
    "x02 = jugadors.iloc[:,features].values\n",
    "# Standardizing the features\n",
    "x03 = StandardScaler().fit_transform(x02)"
   ]
  },
  {
   "cell_type": "code",
   "execution_count": 22,
   "id": "472bf165",
   "metadata": {},
   "outputs": [
    {
     "name": "stdout",
     "output_type": "stream",
     "text": [
      "[[-0.58618563 -0.57392471 -0.48251943 ... -0.60198927  0.56590556\n",
      "   0.54020718]\n",
      " [-0.58618563 -0.57392471 -0.48251943 ... -0.59299996  0.23352816\n",
      "   2.46695505]\n",
      " [-0.58618563 -0.52215275 -0.48251943 ... -0.54865265 -0.26503794\n",
      "   0.01473049]\n",
      " ...\n",
      " [ 5.29529194  5.01744776  5.98028637 ...  5.01693405 -1.26217014\n",
      "  -1.03622289]\n",
      " [ 6.81021798  7.39895826  7.35118457 ...  7.37093691  0.73209425\n",
      "   1.06568387]\n",
      " [ 7.38945441  7.76136203  8.00399323 ...  7.61304923  1.06447165\n",
      "   1.59116056]]\n"
     ]
    }
   ],
   "source": [
    "print(x03)"
   ]
  },
  {
   "cell_type": "markdown",
   "id": "85024cbd",
   "metadata": {},
   "source": [
    "**Projecció PCA a 2D:** de 8 columnes o dimensions, passarem a 2D. Afegirem a l'anàlisi un attribut o feature categòric al final del nou dataframe."
   ]
  },
  {
   "cell_type": "code",
   "execution_count": 24,
   "id": "f1bad843",
   "metadata": {},
   "outputs": [],
   "source": [
    "pca = PCA(n_components=2)\n",
    "principalComponents = pca.fit_transform(x03)\n",
    "principalDf = pd.DataFrame(data = principalComponents\n",
    "             , columns = [\"component01\", \"component02\"])"
   ]
  },
  {
   "cell_type": "code",
   "execution_count": 25,
   "id": "8388460c",
   "metadata": {},
   "outputs": [
    {
     "name": "stdout",
     "output_type": "stream",
     "text": [
      "     component01  component02    País\n",
      "0      -1.402271     0.900828  España\n",
      "1      -1.313171     2.023128  España\n",
      "2      -1.434904    -0.057450  España\n",
      "3      -1.156180     2.909495  España\n",
      "4      -1.469516    -0.655229  España\n",
      "..           ...          ...     ...\n",
      "649    11.093777    -2.354243  España\n",
      "650    12.485555     0.608710  España\n",
      "651    11.157751    -2.421696  España\n",
      "652    15.825330     0.075897  España\n",
      "653    16.927616     0.590114  España\n",
      "\n",
      "[654 rows x 3 columns]\n"
     ]
    }
   ],
   "source": [
    "finalDf = pd.concat([principalDf, jugadors[[\"País\"]]], axis = 1)\n",
    "print(finalDf)"
   ]
  },
  {
   "cell_type": "markdown",
   "id": "ae49e839",
   "metadata": {},
   "source": [
    "**Visualitzem les dades**"
   ]
  },
  {
   "cell_type": "code",
   "execution_count": 26,
   "id": "738c4f74",
   "metadata": {},
   "outputs": [
    {
     "data": {
      "image/png": "[encoded data removed]",
      "text/plain": [
       "<Figure size 1080x720 with 1 Axes>"
      ]
     },
     "metadata": {
      "needs_background": "light"
     },
     "output_type": "display_data"
    }
   ],
   "source": [
    "groups = finalDf.groupby(\"País\")\n",
    "\n",
    "\n",
    "fig, ax1 = plt.subplots(figsize = (15, 10))\n",
    "ax1.margins(0.05)\n",
    "\n",
    "#Afegim diferents colors per a cada punt\n",
    "colors = iter(cm.prism(np.linspace(0, 1, 70)))\n",
    "\n",
    "for name, group in groups:\n",
    "    ax1.plot(group.component01, group.component02, marker='o', linestyle='', ms=12, label=name,color=next(colors))\n",
    "ax1.legend()\n",
    "plt.title(\"Scatter de les transformacions per països d'origen dels jugadors\",fontsize=12)\n",
    "plt.xlabel(\"Alçada\")\n",
    "plt.ylabel(\"Pes\")\n",
    "plt.show()"
   ]
  },
  {
   "cell_type": "markdown",
   "id": "0a390f39",
   "metadata": {},
   "source": [
    "**Explained Variance**\n",
    "\n",
    "*The explained variance tells you how much information (variance) can be attributed to each of the principal components.*\n",
    "\n",
    "En passar de 8 a 2 dimensions, hem perdut variança, també anomenada informació. Amb la variança explicada"
   ]
  },
  {
   "cell_type": "code",
   "execution_count": 27,
   "id": "9a4a80a1",
   "metadata": {},
   "outputs": [
    {
     "data": {
      "text/plain": [
       "array([0.69329212, 0.21942958])"
      ]
     },
     "execution_count": 27,
     "metadata": {},
     "output_type": "execute_result"
    }
   ],
   "source": [
    "pca.explained_variance_ratio_"
   ]
  },
  {
   "cell_type": "markdown",
   "id": "df201b11",
   "metadata": {},
   "source": [
    "Amb l'atribut *explained_variance_ratio_*, veiem que el primer component té una variança de 69,4% i el segon component de 21,94%. En total, els dos components sumen un 91.34% de la informació."
   ]
  },
  {
   "cell_type": "markdown",
   "id": "a5612da5",
   "metadata": {},
   "source": [
    "## Exercici 3. Continua amb el conjunt de dades de tema esportiu que t'agradi i normalitza les dades tenint en compte els outliers."
   ]
  },
  {
   "cell_type": "markdown",
   "id": "a54b70b9",
   "metadata": {},
   "source": [
    "Una forma senzilla de veure els outliers és mitjançant una caixa boxplot. Grafiquem \"Altura\", i veiem que els outliers estan per sobre de 194 cm i per sota de 163 cm.\n",
    "\n",
    "Podem considerar el següent pels outliers:\n",
    "- Eliminar les dades fora de la distribució normal.\n",
    "- Per sobre dels límits, assignar el valor màxim (mitjana + 2 sgimas).\n",
    "- No realitzar canvis.\n",
    "\n",
    "En el nostre cas, eliminem els outliers i normalitzem."
   ]
  },
  {
   "cell_type": "code",
   "execution_count": 41,
   "id": "b358f330",
   "metadata": {},
   "outputs": [
    {
     "data": {
      "text/plain": [
       "(150.0, 200.0)"
      ]
     },
     "execution_count": 41,
     "metadata": {},
     "output_type": "execute_result"
    },
    {
     "data": {
      "image/png": "[encoded data removed]",
      "text/plain": [
       "<Figure size 1080x720 with 1 Axes>"
      ]
     },
     "metadata": {
      "needs_background": "light"
     },
     "output_type": "display_data"
    }
   ],
   "source": [
    "fig, ax = plt.subplots(figsize = (15, 10))\n",
    "ax.boxplot(jugadors.Altura)\n",
    "plt.title(\"Boxplot Alçada jugadors per trobar outliers\",fontsize=12)\n",
    "plt.ylabel(\"Alçada [cm]\")\n",
    "plt.ylim(150,200)"
   ]
  },
  {
   "cell_type": "code",
   "execution_count": 51,
   "id": "a7d7d4f7",
   "metadata": {},
   "outputs": [
    {
     "name": "stdout",
     "output_type": "stream",
     "text": [
      "Quantitat de Outliers detectats = 8\n"
     ]
    },
    {
     "data": {
      "text/plain": [
       "(150.0, 200.0)"
      ]
     },
     "execution_count": 51,
     "metadata": {},
     "output_type": "execute_result"
    },
    {
     "data": {
      "image/png": "[encoded data removed]",
      "text/plain": [
       "<Figure size 1080x720 with 1 Axes>"
      ]
     },
     "metadata": {
      "needs_background": "light"
     },
     "output_type": "display_data"
    }
   ],
   "source": [
    "Outliers=jugadors[(jugadors.Altura<194) & (jugadors.Altura>163)]\n",
    "print(\"Quantitat de Outliers detectats = \" + str(jugadors.Altura.count()-Outliers.Altura.count()))\n",
    "jugadors01=jugadors[(jugadors.Altura<194) & (jugadors.Altura>163)]\n",
    "fig, ax = plt.subplots(figsize = (15, 10))\n",
    "ax.boxplot(jugadors01.Altura)\n",
    "plt.title(\"Boxplot Alçada jugadors sense outliers\",fontsize=12)\n",
    "plt.ylabel(\"Alçada [cm]\")\n",
    "plt.ylim(150,200)"
   ]
  },
  {
   "cell_type": "markdown",
   "id": "92a9ed8b",
   "metadata": {},
   "source": [
    "**Normalització**\n",
    "Un cop eliminats els outliers, fem la normalització de les dades. Aplicarem la normalització min-max."
   ]
  },
  {
   "cell_type": "code",
   "execution_count": 61,
   "id": "d004af18",
   "metadata": {},
   "outputs": [
    {
     "name": "stdout",
     "output_type": "stream",
     "text": [
      "0      0.586207\n",
      "1      0.517241\n",
      "2      0.413793\n",
      "3      0.965517\n",
      "4      0.310345\n",
      "         ...   \n",
      "649    0.241379\n",
      "650    0.862069\n",
      "651    0.206897\n",
      "652    0.620690\n",
      "653    0.689655\n",
      "Name: Altura, Length: 646, dtype: float64\n",
      "count    646.000000\n",
      "mean       0.465037\n",
      "std        0.198295\n",
      "min        0.000000\n",
      "25%        0.310345\n",
      "50%        0.482759\n",
      "75%        0.586207\n",
      "max        1.000000\n",
      "Name: Altura, dtype: float64\n"
     ]
    }
   ],
   "source": [
    "jugadors02 = jugadors01.Altura\n",
    "\n",
    "#Creem la funció\n",
    "def minmax_norm(df_input):\n",
    "    return (jugadors02 - jugadors02.min()) / ( jugadors02.max() - jugadors02.min())\n",
    "\n",
    "jugadors02_minmax_norm = minmax_norm(jugadors02)\n",
    "\n",
    "print(jugadors02_minmax_norm)\n",
    "print(jugadors02_minmax_norm.describe())"
   ]
  },
  {
   "cell_type": "markdown",
   "id": "2fcd3a8d",
   "metadata": {},
   "source": [
    "Es pot veure com la normalització ha funcionat, i tots els valors d'\"Altura\" estan compressos entre 0 i 1. Fem un dibuix per comprendre-ho visualment."
   ]
  },
  {
   "cell_type": "code",
   "execution_count": 65,
   "id": "8934fa7d",
   "metadata": {},
   "outputs": [
    {
     "data": {
      "text/plain": [
       "Text(0, 0.5, 'Alçada')"
      ]
     },
     "execution_count": 65,
     "metadata": {},
     "output_type": "execute_result"
    },
    {
     "data": {
      "image/png": "[encoded data removed]",
      "text/plain": [
       "<Figure size 1080x720 with 1 Axes>"
      ]
     },
     "metadata": {
      "needs_background": "light"
     },
     "output_type": "display_data"
    }
   ],
   "source": [
    "fig, ax = plt.subplots(figsize = (15, 10))\n",
    "ax.boxplot(jugadors02_minmax_norm)\n",
    "plt.title(\"Boxplot Alçada jugadors sense outliers i després normalitzats\",fontsize=12)\n",
    "plt.ylabel(\"Alçada\")"
   ]
  },
  {
   "cell_type": "code",
   "execution_count": null,
   "id": "e8299ceb",
   "metadata": {},
   "outputs": [],
   "source": []
  }
 ],
 "metadata": {
  "kernelspec": {
   "display_name": "Python 3 (ipykernel)",
   "language": "python",
   "name": "python3"
  },
  "language_info": {
   "codemirror_mode": {
    "name": "ipython",
    "version": 3
   },
   "file_extension": ".py",
   "mimetype": "text/x-python",
   "name": "python",
   "nbconvert_exporter": "python",
   "pygments_lexer": "ipython3",
   "version": "3.9.7"
  }
 },
 "nbformat": 4,
 "nbformat_minor": 5
}
